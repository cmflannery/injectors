{
 "cells": [
  {
   "cell_type": "code",
   "execution_count": 1,
   "metadata": {},
   "outputs": [],
   "source": [
    "import coaxialSwirl as cs\n",
    "import numpy as np"
   ]
  },
  {
   "cell_type": "code",
   "execution_count": 2,
   "metadata": {},
   "outputs": [],
   "source": [
    "ICs = {\n",
    "    'alpha1' : 50,   # spray cone angle (degrees)\n",
    "    'alpha2' : 45,  \n",
    "    'deltaP1' : 201325,  # delta P (Pascals)\n",
    "    'deltaP2' : 201325,\n",
    "    'mdot1' : 1.2,    # mass flow rate (kg/s)\n",
    "    'mdot2' : 0.9,\n",
    "    'rho1' : 1141,     # fluid density (kg/m^3)\n",
    "    'rho2' : 800,\n",
    "    'nu1' : 15e-6,      # kinematic viscosity\n",
    "    'nu2' : 15e-6,\n",
    "    'n1' : 4,       # number of inlet passages\n",
    "    'n2' : 6\n",
    "}\n",
    "element = cs.SwirlElement('external mixing', ICs)"
   ]
  },
  {
   "cell_type": "code",
   "execution_count": 3,
   "metadata": {},
   "outputs": [
    {
     "name": "stdout",
     "output_type": "stream",
     "text": [
      "Use empirical figures 34a and b for the following calculations\n",
      "Enter the value for A1 given 2*alpha1 = 100.00: 7\n",
      "Enter the value for A2 given 2*alpha2 = 90.00: 3\n",
      "Enter the value for mu1 given A1 = 7.00: 0.09\n",
      "Enter the value for mu2 given A2 = 3.00: 0.17\n",
      "\n",
      "Rein1 = 282613.44\n",
      "Rein2 = 417357.92\n",
      "\n",
      "Rn1 = 0.04179 cm\n",
      "Rn2 = 0.01981 cm\n",
      "\n",
      "Rin1 = 0.04179 cm\n",
      "Rin2 = 0.01981 cm\n",
      "\n",
      "rin1 = 0.00790 cm\n",
      "rin2 = 0.00467 cm\n"
     ]
    }
   ],
   "source": [
    "element.design()"
   ]
  }
 ],
 "metadata": {
  "kernelspec": {
   "display_name": "Python 3",
   "language": "python",
   "name": "python3"
  },
  "language_info": {
   "codemirror_mode": {
    "name": "ipython",
    "version": 3
   },
   "file_extension": ".py",
   "mimetype": "text/x-python",
   "name": "python",
   "nbconvert_exporter": "python",
   "pygments_lexer": "ipython3",
   "version": "3.6.3"
  }
 },
 "nbformat": 4,
 "nbformat_minor": 2
}
