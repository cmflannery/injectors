{
 "cells": [
  {
   "cell_type": "code",
   "execution_count": 2,
   "metadata": {},
   "outputs": [],
   "source": [
    "import coaxialSwirl as cs"
   ]
  },
  {
   "cell_type": "code",
   "execution_count": 3,
   "metadata": {},
   "outputs": [],
   "source": [
    "ICs = {\n",
    "    'alpha1' : 50,   # spray cone angle (degrees)\n",
    "    'alpha2' : 45,  \n",
    "    'deltaP1' : 201325,  # delta P (Pascals)\n",
    "    'deltaP2' : 201325,\n",
    "    'mdot1' : 1.2,    # mass flow rate (kg/s)\n",
    "    'mdot2' : 0.9,\n",
    "    'rho1' : 1141,     # fluid density (kg/m^3)\n",
    "    'rho2' : 800,\n",
    "    'nu1' : 15e-6,      # kinematic viscosity\n",
    "    'nu2' : 15e-6,\n",
    "    'n1' : 4,       # number of inlet passages\n",
    "    'n2' : 6\n",
    "}\n",
    "element = cs.SwirlElement('external', ICs)"
   ]
  },
  {
   "cell_type": "code",
   "execution_count": 4,
   "metadata": {},
   "outputs": [
    {
     "name": "stdout",
     "output_type": "stream",
     "text": [
      "Use empirical figures 34a and b for the following calculations\n",
      "Enter the value for A1 given 2*alpha1 = 100.00: 7\n",
      "Enter the value for A2 given 2*alpha2 = 90.00: 3\n",
      "Enter the value for mu1 given A1 = 7.00: 0.086\n",
      "Enter the value for mu2 given A2 = 3.00: 0.17\n",
      "\n",
      "Rein1 = 7480.04\n",
      "Rein2 = 7781.58\n",
      "\n",
      "Rn1 = 1.44125 cm\n",
      "Rn2 = 0.97016 cm\n",
      "\n",
      "Rin1 = 1.72950 cm\n",
      "Rin2 = 1.16419 cm\n",
      "\n",
      "rin1 = 0.29837 cm\n",
      "rin2 = 0.25049 cm\n"
     ]
    }
   ],
   "source": [
    "element.design()"
   ]
  }
 ],
 "metadata": {
  "kernelspec": {
   "display_name": "Python 3",
   "language": "python",
   "name": "python3"
  }
 },
 "nbformat": 4,
 "nbformat_minor": 2
}
